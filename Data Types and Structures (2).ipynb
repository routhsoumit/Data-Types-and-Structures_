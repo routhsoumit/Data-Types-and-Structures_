{
 "cells": [
  {
   "cell_type": "markdown",
   "id": "3866c92b",
   "metadata": {},
   "source": [
    "1.What are data structures, and why are they important?\n",
    "Ans: A data structure is a specialized way of organizing and storing data in a computer so that it can be used efficiently.\n",
    "\n",
    "2. Explain the difference between mutable and immutable data types with examples.\n",
    "Ans: In Python, mutable data types like lists, dictionaries, and sets can be changed after creation, while immutable data types like strings, integers, and tuples cannot. For example, a list can be updated (my_list[0] = 100`), but a string cannot be modified directly—you must create a new one. Mutable types allow in-place changes; immutable types do not.\n",
    "\n",
    "3.What are the main differences between lists and tuples in Python?\n",
    "Ans:In Python, lists are mutable (can be changed) and use [ ], while tuples are immutable (cannot be changed) and use ( ). Lists have more methods and are used when data changes, whereas tuples are faster and better for fixed data.\n",
    "\n",
    "4. Describe how dictionaries store data?\n",
    "Ans:In Python, dictionaries store data as key-value pairs. Each unique key is linked to a specific value, and data is accessed using the key, not an index. Internally, dictionaries use a hash table to store these pairs, which allows for fast lookups. Keys must be immutable (like strings or numbers), while values can be of any data type.\n",
    "\n",
    "5.Why might you use a set instead of a list in Python?\n",
    "Ans:You might use a set instead of a list in Python when you need to store unique items and don't care about their order. Sets automatically remove duplicates and offer faster membership checks using the in keyword. This makes them ideal for tasks like removing duplicates or checking if an item exists.\n",
    "\n",
    "6.What is a string in Python, and how is it different from a list?\n",
    "Ans:A string in Python is a sequence of characters used to represent text. Unlike a list, which can contain elements of different types, a string is made up only of characters. Strings are immutable, meaning their content cannot be changed after creation, while lists are mutable and can be modified. Additionally, strings are enclosed in quotes, whereas lists are enclosed in square brackets.\n",
    "\n",
    "7.How do tuples ensure data integrity in Python?\n",
    "Ans:Tuples ensure data integrity in Python because they are immutable, meaning once a tuple is created, its elements cannot be changed, added, or removed. This immutability prevents accidental modification of data, making tuples ideal for storing fixed collections of values that should remain constant throughout the program.\n",
    "\n",
    "8.What is a hash table, and how does it relate to dictionaries in Python?\n",
    "Ans:A hash table is a data structure that stores data in key-value pairs and uses a hash function to compute an index (or hash) where the value is stored. This allows for very fast data retrieval based on the key. In Python, dictionaries are implemented using hash tables, which is why they provide quick access to values when given a key. The hash table ensures efficient insertion, deletion, and lookup operations in a dictionary.\n",
    "\n",
    "9.Can lists contain different data types in Python?\n",
    "Ans:Yes, lists in Python can contain different data typeswithin the same list. For example, a single list can hold integers, strings, floats, and even other lists or objects all together.\n",
    "\n",
    "10.Explain why strings are immutable in Python?\n",
    "Ans:Strings are immutable in Python to ensure data integrity and security. Since strings often represent important data like text or code, making them unchangeable prevents accidental modifications. Immutability also allows Python to optimize memory usage and improve performance by reusing string objects safely across the program.\n",
    "\n",
    "11.What advantages do dictionaries offer over lists for certain tasks?\n",
    "Ans:Dictionaries offer several advantages over lists for certain tasks. They allow fast data retrieval using keys instead of searching by position, which makes lookups more efficient. Dictionaries store data as key-value pairs, enabling more meaningful data organization and easy access based on unique identifiers. Unlike lists, dictionaries do not rely on order, so they are better for tasks where the relationship between data points matters more than their sequence.\n",
    "\n",
    "12.Describe a scenario where using a tuple would be preferable over a list? \n",
    "Ans:Using a tuple is preferable when you need to store a collection of values that should not change throughout the program. For example, storing the coordinates of a point (x, y) is a good use case for a tuple because these values represent a fixed position and should remain constant. Tuples provide data integrity by preventing accidental modifications and can also improve performance due to their immutability.\n",
    "\n",
    "13. How do sets handle duplicate values in Python?\n",
    "Ans:In Python, sets automatically remove duplicate values. When you add elements to a set, any duplicates are ignored, so each value appears only once. This makes sets useful for storing unique items without worrying about duplicates.\n",
    "\n",
    "14.How does the “in” keyword work differently for lists and dictionaries?\n",
    "Ans:The \"in\" keyword checks for membership differently in lists and dictionaries. In lists, it looks for a value by scanning each element to see if the value exists anywhere in the list. In dictionaries, however, it checks if a key exists among the dictionary’s keys, not the values. Therefore, when you use \"in\" with a list, you are searching for a value, but when you use it with a dictionary, you are searching for a key.\n",
    "\n",
    "15.Can you modify the elements of a tuple? Explain why or why not?\n",
    "Ans:You cannot modify the elements of a tuple because tuples are immutable in Python. Once a tuple is created, its contents cannot be changed, added, or removed. This immutability ensures that the data remains constant and prevents accidental modification. If you need a collection that can be changed, you should use a list instead.\n",
    "\n",
    "16. What is a nested dictionary, and give an example of its use case?\n",
    "Ans:A nested dictionary is a dictionary that contains another dictionary as one or more of its values. This structure allows you to organize complex data with multiple levels of information. For example, you can store information about students and their grades in different subjects. Each student’s name is a key, and the value is another dictionary containing subjects and their corresponding grades.\n",
    "\n",
    "17. Describe the time complexity of accessing elements in a dictionary?\n",
    "Ans:Accessing elements in a dictionary generally has a time complexity of O(1), which means it takes constant time regardless of the size of the dictionary. This efficiency is due to the underlying hash table implementation that allows quick lookup based on keys. However, in rare cases like hash collisions, the time complexity can degrade to O(n), where n is the number of elements. But overall, dictionary access is very fast and efficient.\n",
    "\n",
    "18.In what situations are lists preferred over dictionaries?\n",
    "Ans:Lists are preferred over dictionaries when the order of items matters or when you need to access elements by their position (index). They are useful for storing sequences of data that may contain duplicates and when you need to perform operations like sorting or iterating in a specific order. Lists are also simpler to use when you don’t require key-based access to the elements.\n",
    "\n",
    "19.Why are dictionaries considered unordered, and how does that affect data retrieval?\n",
    "Ans:Dictionaries were considered unordered because they did not keep the order of items before Python 3.6. From Python 3.7 onward, they preserve insertion order, but they are still accessed by keys, not by position. This means data retrieval is done using keys rather than relying on the order of items.\n",
    "\n",
    "20.Explain the difference between a list and a dictionary in terms of data retrieval? \n",
    "Ans:A list retrieves data by position using numeric indexes, so you access elements based on their order. A dictionary retrieves data using keys, which can be any immutable type, allowing for direct access without needing to know the position. Lists are best when order matters, while dictionaries are ideal for fast lookup using unique keys.\n"
   ]
  },
  {
   "cell_type": "code",
   "execution_count": 1,
   "id": "f0907ee9",
   "metadata": {},
   "outputs": [
    {
     "name": "stdout",
     "output_type": "stream",
     "text": [
      "Soumit Routh\n"
     ]
    }
   ],
   "source": [
    "#1.Write a code to create a string with your name and print.\n",
    "name = \"Soumit Routh\"\n",
    "print(name)\n"
   ]
  },
  {
   "cell_type": "code",
   "execution_count": 2,
   "id": "100d5f26",
   "metadata": {},
   "outputs": [
    {
     "name": "stdout",
     "output_type": "stream",
     "text": [
      "12\n"
     ]
    }
   ],
   "source": [
    "#2.Write a code to find the length of the string \"Hello World\"\n",
    "length = len(\"Soumit Routh\")\n",
    "print(length)\n"
   ]
  },
  {
   "cell_type": "code",
   "execution_count": 3,
   "id": "e74db6e7",
   "metadata": {},
   "outputs": [
    {
     "name": "stdout",
     "output_type": "stream",
     "text": [
      "Pyt\n"
     ]
    }
   ],
   "source": [
    "#3.Write a code to slice the first 3 characters from the string \"Python Programming\"\n",
    "slice_str = \"Python Programming\"[:3]\n",
    "print(slice_str)\n"
   ]
  },
  {
   "cell_type": "code",
   "execution_count": 4,
   "id": "efe11eaf",
   "metadata": {},
   "outputs": [
    {
     "name": "stdout",
     "output_type": "stream",
     "text": [
      "HELLO\n"
     ]
    }
   ],
   "source": [
    "#4.Write a code to convert the string \"hello\" to uppercase\n",
    "upper_str = \"hello\".upper()\n",
    "print(upper_str)\n"
   ]
  },
  {
   "cell_type": "code",
   "execution_count": 5,
   "id": "bed9e04c",
   "metadata": {},
   "outputs": [
    {
     "name": "stdout",
     "output_type": "stream",
     "text": [
      "I like orange\n"
     ]
    }
   ],
   "source": [
    "#5.Write a code to replace the word \"apple\" with \"orange\" in the string \"I like apple\"\n",
    "replaced_str = \"I like apple\".replace(\"apple\", \"orange\")\n",
    "print(replaced_str)\n"
   ]
  },
  {
   "cell_type": "code",
   "execution_count": 6,
   "id": "c3a0af44",
   "metadata": {},
   "outputs": [
    {
     "name": "stdout",
     "output_type": "stream",
     "text": [
      "[1, 2, 3, 4, 10]\n"
     ]
    }
   ],
   "source": [
    "#6.Write a code to create a list with numbers 1 to 5 and print it.\n",
    "lst = [1, 2, 3, 4]\n",
    "lst.append(10)\n",
    "print(lst)\n",
    "\n"
   ]
  },
  {
   "cell_type": "code",
   "execution_count": 7,
   "id": "9a91ad41",
   "metadata": {},
   "outputs": [
    {
     "name": "stdout",
     "output_type": "stream",
     "text": [
      "[1, 2, 4, 5]\n"
     ]
    }
   ],
   "source": [
    "#7.Write a code to remove the number 3 from the list [1, 2, 3, 4, 5]\n",
    "lst_remove = [1, 2, 3, 4, 5]\n",
    "lst_remove.remove(3)\n",
    "print(lst_remove)\n"
   ]
  },
  {
   "cell_type": "code",
   "execution_count": 8,
   "id": "6a2692a5",
   "metadata": {},
   "outputs": [
    {
     "name": "stdout",
     "output_type": "stream",
     "text": [
      "b\n"
     ]
    }
   ],
   "source": [
    "#8.Write a code to remove the number 3 from the list [1, 2, 3, 4, 5]\n",
    "lst_chars = ['a', 'b', 'c', 'd']\n",
    "print(lst_chars[1])\n"
   ]
  },
  {
   "cell_type": "code",
   "execution_count": 9,
   "id": "505a7a84",
   "metadata": {},
   "outputs": [
    {
     "name": "stdout",
     "output_type": "stream",
     "text": [
      "[50, 40, 30, 20, 10]\n"
     ]
    }
   ],
   "source": [
    "#9.Write a code to access the second element in the list ['a', 'b', 'c', 'd']\n",
    "lst_reverse = [10, 20, 30, 40, 50]\n",
    "lst_reverse.reverse()\n",
    "print(lst_reverse)\n"
   ]
  },
  {
   "cell_type": "code",
   "execution_count": 10,
   "id": "48975ba3",
   "metadata": {},
   "outputs": [
    {
     "name": "stdout",
     "output_type": "stream",
     "text": [
      "[50, 40, 30, 20, 10]\n"
     ]
    }
   ],
   "source": [
    "#10.Write a code to reverse the list [10, 20, 30, 40, 50]\n",
    "lst_reverse = [10, 20, 30, 40, 50]\n",
    "lst_reverse.reverse()\n",
    "print(lst_reverse)\n",
    "\n"
   ]
  },
  {
   "cell_type": "code",
   "execution_count": 11,
   "id": "418b8084",
   "metadata": {},
   "outputs": [
    {
     "name": "stdout",
     "output_type": "stream",
     "text": [
      "(100, 200, 300)\n"
     ]
    }
   ],
   "source": [
    "#11.Write a code to create a tuple with the elements 100, 200, 300 and print it.\n",
    "t = (100, 200, 300)\n",
    "print(t)\n"
   ]
  },
  {
   "cell_type": "code",
   "execution_count": 12,
   "id": "74726ee0",
   "metadata": {},
   "outputs": [
    {
     "name": "stdout",
     "output_type": "stream",
     "text": [
      "blue\n"
     ]
    }
   ],
   "source": [
    "#12.Write a code to access the second-to-last element of the tuple ('red', 'green', 'blue', 'yellow').\n",
    "colors = ('red', 'green', 'blue', 'yellow')\n",
    "print(colors[-2])\n"
   ]
  },
  {
   "cell_type": "code",
   "execution_count": 13,
   "id": "ce985247",
   "metadata": {},
   "outputs": [
    {
     "name": "stdout",
     "output_type": "stream",
     "text": [
      "5\n"
     ]
    }
   ],
   "source": [
    "#13.Write a code to find the minimum number in the tuple (10, 20, 5, 15).\n",
    "numbers = (10, 20, 5, 15)\n",
    "print(min(numbers))\n"
   ]
  },
  {
   "cell_type": "code",
   "execution_count": 14,
   "id": "132c1f35",
   "metadata": {},
   "outputs": [
    {
     "name": "stdout",
     "output_type": "stream",
     "text": [
      "1\n"
     ]
    }
   ],
   "source": [
    "#14.Write a code to find the index of the element \"cat\" in the tuple ('dog', 'cat', 'rabbit').\n",
    "animals = ('dog', 'cat', 'rabbit')\n",
    "print(animals.index(\"cat\"))\n"
   ]
  },
  {
   "cell_type": "code",
   "execution_count": 15,
   "id": "fa7dfe49",
   "metadata": {},
   "outputs": [
    {
     "name": "stdout",
     "output_type": "stream",
     "text": [
      "False\n"
     ]
    }
   ],
   "source": [
    "#15. Write a code to create a tuple containing three different fruits and check if \"kiwi\" is in it.\n",
    "fruits = (\"apple\", \"banana\", \"cherry\")\n",
    "print(\"kiwi\" in fruits)\n"
   ]
  },
  {
   "cell_type": "code",
   "execution_count": 16,
   "id": "c6e645f4",
   "metadata": {},
   "outputs": [
    {
     "name": "stdout",
     "output_type": "stream",
     "text": [
      "{'b', 'c', 'a'}\n"
     ]
    }
   ],
   "source": [
    "#16.Write a code to create a set with the elements 'a', 'b', 'c' and print it.\n",
    "s = {'a', 'b', 'c'}\n",
    "print(s)\n"
   ]
  },
  {
   "cell_type": "code",
   "execution_count": 17,
   "id": "8ad0c38c",
   "metadata": {},
   "outputs": [
    {
     "name": "stdout",
     "output_type": "stream",
     "text": [
      "set()\n"
     ]
    }
   ],
   "source": [
    "#17. Write a code to clear all elements from the set {1, 2, 3, 4, 5}.\n",
    "s = {1, 2, 3, 4, 5}\n",
    "s.clear()\n",
    "print(s)\n"
   ]
  },
  {
   "cell_type": "code",
   "execution_count": 18,
   "id": "7a078063",
   "metadata": {},
   "outputs": [
    {
     "name": "stdout",
     "output_type": "stream",
     "text": [
      "{1, 2, 3}\n"
     ]
    }
   ],
   "source": [
    "#18. Write a code to remove the element 4 from the set {1, 2, 3, 4}\n",
    "s = {1, 2, 3, 4}\n",
    "s.remove(4)\n",
    "print(s)\n"
   ]
  },
  {
   "cell_type": "code",
   "execution_count": 19,
   "id": "a300b607",
   "metadata": {},
   "outputs": [
    {
     "name": "stdout",
     "output_type": "stream",
     "text": [
      "{1, 2, 3, 4, 5}\n"
     ]
    }
   ],
   "source": [
    "#19. Write a code to find the union of two sets {1, 2, 3} and {3, 4, 5}.\n",
    "a = {1, 2, 3}\n",
    "b = {3, 4, 5}\n",
    "print(a.union(b))\n"
   ]
  },
  {
   "cell_type": "code",
   "execution_count": 20,
   "id": "9b7d5596",
   "metadata": {},
   "outputs": [
    {
     "name": "stdout",
     "output_type": "stream",
     "text": [
      "{2, 3}\n"
     ]
    }
   ],
   "source": [
    "#20. Write a code to find the intersection of two sets {1, 2, 3} and {2, 3, 4}.\n",
    "a = {1, 2, 3}\n",
    "b = {2, 3, 4}\n",
    "print(a.intersection(b))\n"
   ]
  },
  {
   "cell_type": "code",
   "execution_count": 21,
   "id": "66ddfea1",
   "metadata": {},
   "outputs": [
    {
     "name": "stdout",
     "output_type": "stream",
     "text": [
      "{'name': 'John', 'age': 30, 'city': 'New York'}\n"
     ]
    }
   ],
   "source": [
    "#21.Write a code to create a dictionary with the keys \"name\", \"age\", and \"city\", and print it\n",
    "person = {\"name\": \"John\", \"age\": 30, \"city\": \"New York\"}\n",
    "print(person)\n"
   ]
  },
  {
   "cell_type": "code",
   "execution_count": 22,
   "id": "096d2b41",
   "metadata": {},
   "outputs": [
    {
     "name": "stdout",
     "output_type": "stream",
     "text": [
      "{'name': 'John', 'age': 25, 'country': 'USA'}\n"
     ]
    }
   ],
   "source": [
    "#22. Write a code to add a new key-value pair \"country\": \"USA\" to the dictionary {'name': 'John', 'age': 25}.\n",
    "person = {'name': 'John', 'age': 25}\n",
    "person[\"country\"] = \"USA\"\n",
    "print(person)\n"
   ]
  },
  {
   "cell_type": "code",
   "execution_count": 24,
   "id": "f3ab94af",
   "metadata": {},
   "outputs": [
    {
     "name": "stdout",
     "output_type": "stream",
     "text": [
      "Alice\n"
     ]
    }
   ],
   "source": [
    "#23.Write a code to access the value associated with the key \"name\" in the dictionary {'name': 'Alice', 'age': 30}.\n",
    "person = {'name': 'Alice', 'age': 30}\n",
    "print(person[\"name\"])\n"
   ]
  },
  {
   "cell_type": "code",
   "execution_count": 25,
   "id": "78b27db4",
   "metadata": {},
   "outputs": [
    {
     "name": "stdout",
     "output_type": "stream",
     "text": [
      "{'name': 'Bob', 'city': 'New York'}\n"
     ]
    }
   ],
   "source": [
    "#24. Write a code to remove the key \"age\" from the dictionary {'name': 'Bob', 'age': 22, 'city': 'New York'}\n",
    "person = {'name': 'Bob', 'age': 22, 'city': 'New York'}\n",
    "del person[\"age\"]\n",
    "print(person)\n"
   ]
  },
  {
   "cell_type": "code",
   "execution_count": 26,
   "id": "4c151fd4",
   "metadata": {},
   "outputs": [
    {
     "name": "stdout",
     "output_type": "stream",
     "text": [
      "True\n"
     ]
    }
   ],
   "source": [
    "#25. Write a code to check if the key \"city\" exists in the dictionary {'name': 'Alice', 'city': 'Paris'}.\n",
    "person = {'name': 'Alice', 'city': 'Paris'}\n",
    "print(\"city\" in person)\n"
   ]
  },
  {
   "cell_type": "code",
   "execution_count": 1,
   "id": "ea9a10a7",
   "metadata": {},
   "outputs": [
    {
     "name": "stdout",
     "output_type": "stream",
     "text": [
      "[1, 2, 3]\n",
      "(4, 5, 6)\n",
      "{'a': 1, 'b': 2}\n"
     ]
    }
   ],
   "source": [
    "#26. Write a code to create a list, a tuple, and a dictionary, and print them all.\\\n",
    "my_list = [1, 2, 3]\n",
    "my_tuple = (4, 5, 6)\n",
    "my_dict = {\"a\": 1, \"b\": 2}\n",
    "print(my_list)\n",
    "print(my_tuple)\n",
    "print(my_dict)\n"
   ]
  },
  {
   "cell_type": "code",
   "execution_count": 2,
   "id": "3b226851",
   "metadata": {},
   "outputs": [
    {
     "name": "stdout",
     "output_type": "stream",
     "text": [
      "[18, 20, 29, 96, 100]\n"
     ]
    }
   ],
   "source": [
    "#27.Write a code to create a list of 5 random numbers between 1 and 100, sort it in ascending order, and print the\n",
    "#result.(replaced)\n",
    "\n",
    "import random\n",
    "nums = random.sample(range(1, 101), 5)\n",
    "nums.sort()\n",
    "print(nums)\n",
    "\n"
   ]
  },
  {
   "cell_type": "code",
   "execution_count": 3,
   "id": "cc290122",
   "metadata": {},
   "outputs": [
    {
     "name": "stdout",
     "output_type": "stream",
     "text": [
      "date\n"
     ]
    }
   ],
   "source": [
    "#28. Write a code to create a list with strings and print the element at the third index.\n",
    "words = [\"apple\", \"banana\", \"cherry\", \"date\", \"fig\"]\n",
    "print(words[3])\n"
   ]
  },
  {
   "cell_type": "code",
   "execution_count": 4,
   "id": "c2570c64",
   "metadata": {},
   "outputs": [
    {
     "name": "stdout",
     "output_type": "stream",
     "text": [
      "{'a': 1, 'b': 2, 'c': 3, 'd': 4}\n"
     ]
    }
   ],
   "source": [
    "#29. Write a code to combine two dictionaries into one and print the result.\n",
    "dict1 = {\"a\": 1, \"b\": 2}\n",
    "dict2 = {\"c\": 3, \"d\": 4}\n",
    "combined = {**dict1, **dict2}\n",
    "print(combined)\n",
    "\n"
   ]
  },
  {
   "cell_type": "code",
   "execution_count": 5,
   "id": "95efd75e",
   "metadata": {},
   "outputs": [
    {
     "name": "stdout",
     "output_type": "stream",
     "text": [
      "{'cherry', 'banana', 'apple'}\n"
     ]
    }
   ],
   "source": [
    "#30. Write a code to convert a list of strings into a set\n",
    "words = [\"apple\", \"banana\", \"cherry\", \"apple\"]\n",
    "a = set(words)\n",
    "print(a)\n"
   ]
  },
  {
   "cell_type": "code",
   "execution_count": null,
   "id": "7da865b4",
   "metadata": {},
   "outputs": [],
   "source": []
  }
 ],
 "metadata": {
  "kernelspec": {
   "display_name": "Python 3 (ipykernel)",
   "language": "python",
   "name": "python3"
  },
  "language_info": {
   "codemirror_mode": {
    "name": "ipython",
    "version": 3
   },
   "file_extension": ".py",
   "mimetype": "text/x-python",
   "name": "python",
   "nbconvert_exporter": "python",
   "pygments_lexer": "ipython3",
   "version": "3.11.3"
  }
 },
 "nbformat": 4,
 "nbformat_minor": 5
}
